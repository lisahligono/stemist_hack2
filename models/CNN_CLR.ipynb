{
  "nbformat": 4,
  "nbformat_minor": 0,
  "metadata": {
    "colab": {
      "provenance": [],
      "gpuType": "T4"
    },
    "kernelspec": {
      "name": "python3",
      "display_name": "Python 3"
    },
    "language_info": {
      "name": "python"
    },
    "accelerator": "GPU"
  },
  "cells": [
    {
      "cell_type": "markdown",
      "source": [
        "## Preparing Data"
      ],
      "metadata": {
        "id": "pI8K5L1EGw1p"
      }
    },
    {
      "cell_type": "code",
      "source": [
        "import glob\n",
        "import numpy as np\n",
        "import torch\n",
        "from torch.utils.data import DataLoader\n",
        "import pandas as pd\n",
        "from matplotlib import pyplot as plt\n",
        "import os\n",
        "from osgeo import gdal\n",
        "import math\n",
        "from PIL import Image\n",
        "from tqdm import tqdm\n",
        "import time"
      ],
      "metadata": {
        "id": "SKrNee20INUE"
      },
      "execution_count": null,
      "outputs": []
    },
    {
      "cell_type": "code",
      "source": [
        "pre_flist = glob.glob(\"/content/pre-disas/\"+\"*.tiff\")\n",
        "pre_flist.sort()\n",
        "\n",
        "post_flist = glob.glob(\"/content/post-disas/\"+\"*.tiff\")\n",
        "post_flist.sort()"
      ],
      "metadata": {
        "id": "YfFFBhuIJNys"
      },
      "execution_count": null,
      "outputs": []
    },
    {
      "cell_type": "code",
      "source": [
        "pre_flist = [pre_flist[i] for i in range(len(pre_flist)) if i<4 ]\n",
        "post_flist = [post_flist[i] for i in range(len(post_flist)) if i<4 ]"
      ],
      "metadata": {
        "id": "GGXhUCseJWzD"
      },
      "execution_count": null,
      "outputs": []
    },
    {
      "cell_type": "code",
      "source": [
        "pre_flist"
      ],
      "metadata": {
        "colab": {
          "base_uri": "https://localhost:8080/"
        },
        "id": "M1-A-SmdNq6G",
        "outputId": "64c9101c-0f30-4612-e8c9-e7a3b16622e8"
      },
      "execution_count": null,
      "outputs": [
        {
          "output_type": "execute_result",
          "data": {
            "text/plain": [
              "['/content/pre-disas/2023-06-14-00:00_2023-06-14-23:59_Sentinel-2_L2A_B01_(Raw).tiff',\n",
              " '/content/pre-disas/2023-06-14-00:00_2023-06-14-23:59_Sentinel-2_L2A_B02_(Raw).tiff',\n",
              " '/content/pre-disas/2023-06-14-00:00_2023-06-14-23:59_Sentinel-2_L2A_B03_(Raw).tiff',\n",
              " '/content/pre-disas/2023-06-14-00:00_2023-06-14-23:59_Sentinel-2_L2A_B04_(Raw).tiff']"
            ]
          },
          "metadata": {},
          "execution_count": 9
        }
      ]
    },
    {
      "cell_type": "code",
      "source": [
        "post_flist"
      ],
      "metadata": {
        "colab": {
          "base_uri": "https://localhost:8080/"
        },
        "id": "qBGFlL73gr8N",
        "outputId": "1159a4f6-e38e-4919-ed7e-6e155b32297e"
      },
      "execution_count": null,
      "outputs": [
        {
          "output_type": "execute_result",
          "data": {
            "text/plain": [
              "['/content/post-disas/2023-07-19-00:00_2023-07-19-23:59_Sentinel-2_L2A_B01_(Raw).tiff',\n",
              " '/content/post-disas/2023-07-19-00:00_2023-07-19-23:59_Sentinel-2_L2A_B02_(Raw).tiff',\n",
              " '/content/post-disas/2023-07-19-00:00_2023-07-19-23:59_Sentinel-2_L2A_B03_(Raw).tiff',\n",
              " '/content/post-disas/2023-07-19-00:00_2023-07-19-23:59_Sentinel-2_L2A_B04_(Raw).tiff']"
            ]
          },
          "metadata": {},
          "execution_count": 10
        }
      ]
    },
    {
      "cell_type": "code",
      "source": [
        "image_list = []\n",
        "for f in pre_flist:\n",
        "    val = gdal.Open(f).ReadAsArray()\n",
        "    image_list.append(val)\n",
        "image_arr = np.asarray(image_list)\n",
        "print(image_arr.shape)\n",
        "# create a dataframe to store the band parameters\n",
        "para=pd.DataFrame()\n",
        "for i in range(image_arr.shape[0]):\n",
        "\n",
        "    data_scaled=image_arr[i,:,::]*1 # no scaled\n",
        "\n",
        "    max = np.max(data_scaled)\n",
        "    min = np.min(data_scaled)\n",
        "    mean = np.mean(data_scaled)\n",
        "    median = np.median(data_scaled)\n",
        "    std = np.std(data_scaled)\n",
        "\n",
        "\n",
        "    values = [ max, min, mean, median, std]\n",
        "    names = [ 'max', 'min', 'mean', 'median', 'std']\n",
        "\n",
        "    out = pd.Series(dict(zip(names, values)))\n",
        "    row = pd.Series({'band':str(i+1)})\n",
        "    row = row.append(out)\n",
        "    print('band '+str(i+1)+\" finished\")\n",
        "\n",
        "    para = para.append(row,ignore_index=True)\n",
        "\n",
        "del image_arr,image_list"
      ],
      "metadata": {
        "colab": {
          "base_uri": "https://localhost:8080/"
        },
        "id": "Rx3NAGLRIWQ0",
        "outputId": "c6011faf-bbdf-4e25-f5a2-bda4399ef2e5"
      },
      "execution_count": null,
      "outputs": [
        {
          "output_type": "stream",
          "name": "stdout",
          "text": [
            "(4, 1608, 1374)\n",
            "band 1 finished\n",
            "band 2 finished\n",
            "band 3 finished\n",
            "band 4 finished\n"
          ]
        },
        {
          "output_type": "stream",
          "name": "stderr",
          "text": [
            "<ipython-input-174-1c4eb8551ff5>:25: FutureWarning: The series.append method is deprecated and will be removed from pandas in a future version. Use pandas.concat instead.\n",
            "  row = row.append(out)\n",
            "<ipython-input-174-1c4eb8551ff5>:28: FutureWarning: The frame.append method is deprecated and will be removed from pandas in a future version. Use pandas.concat instead.\n",
            "  para = para.append(row,ignore_index=True)\n",
            "<ipython-input-174-1c4eb8551ff5>:25: FutureWarning: The series.append method is deprecated and will be removed from pandas in a future version. Use pandas.concat instead.\n",
            "  row = row.append(out)\n",
            "<ipython-input-174-1c4eb8551ff5>:28: FutureWarning: The frame.append method is deprecated and will be removed from pandas in a future version. Use pandas.concat instead.\n",
            "  para = para.append(row,ignore_index=True)\n",
            "<ipython-input-174-1c4eb8551ff5>:25: FutureWarning: The series.append method is deprecated and will be removed from pandas in a future version. Use pandas.concat instead.\n",
            "  row = row.append(out)\n",
            "<ipython-input-174-1c4eb8551ff5>:28: FutureWarning: The frame.append method is deprecated and will be removed from pandas in a future version. Use pandas.concat instead.\n",
            "  para = para.append(row,ignore_index=True)\n",
            "<ipython-input-174-1c4eb8551ff5>:25: FutureWarning: The series.append method is deprecated and will be removed from pandas in a future version. Use pandas.concat instead.\n",
            "  row = row.append(out)\n",
            "<ipython-input-174-1c4eb8551ff5>:28: FutureWarning: The frame.append method is deprecated and will be removed from pandas in a future version. Use pandas.concat instead.\n",
            "  para = para.append(row,ignore_index=True)\n"
          ]
        }
      ]
    },
    {
      "cell_type": "code",
      "source": [
        "para"
      ],
      "metadata": {
        "colab": {
          "base_uri": "https://localhost:8080/",
          "height": 175
        },
        "id": "79DO1tk-J5Xt",
        "outputId": "6f0b14f1-65ab-4d9b-e5b5-d64f94f0dd71"
      },
      "execution_count": null,
      "outputs": [
        {
          "output_type": "execute_result",
          "data": {
            "text/plain": [
              "  band    max  min       mean  median        std\n",
              "0    1  151.0  6.0  18.726336    17.0   6.169597\n",
              "1    2  255.0  2.0  21.538757    19.0   9.674371\n",
              "2    3  255.0  8.0  29.325137    27.0  10.869260\n",
              "3    4  255.0  6.0  36.206785    34.0  13.552948"
            ],
            "text/html": [
              "\n",
              "\n",
              "  <div id=\"df-4ebe60d8-78ed-452f-ae01-1a09cd8f96cd\">\n",
              "    <div class=\"colab-df-container\">\n",
              "      <div>\n",
              "<style scoped>\n",
              "    .dataframe tbody tr th:only-of-type {\n",
              "        vertical-align: middle;\n",
              "    }\n",
              "\n",
              "    .dataframe tbody tr th {\n",
              "        vertical-align: top;\n",
              "    }\n",
              "\n",
              "    .dataframe thead th {\n",
              "        text-align: right;\n",
              "    }\n",
              "</style>\n",
              "<table border=\"1\" class=\"dataframe\">\n",
              "  <thead>\n",
              "    <tr style=\"text-align: right;\">\n",
              "      <th></th>\n",
              "      <th>band</th>\n",
              "      <th>max</th>\n",
              "      <th>min</th>\n",
              "      <th>mean</th>\n",
              "      <th>median</th>\n",
              "      <th>std</th>\n",
              "    </tr>\n",
              "  </thead>\n",
              "  <tbody>\n",
              "    <tr>\n",
              "      <th>0</th>\n",
              "      <td>1</td>\n",
              "      <td>151.0</td>\n",
              "      <td>6.0</td>\n",
              "      <td>18.726336</td>\n",
              "      <td>17.0</td>\n",
              "      <td>6.169597</td>\n",
              "    </tr>\n",
              "    <tr>\n",
              "      <th>1</th>\n",
              "      <td>2</td>\n",
              "      <td>255.0</td>\n",
              "      <td>2.0</td>\n",
              "      <td>21.538757</td>\n",
              "      <td>19.0</td>\n",
              "      <td>9.674371</td>\n",
              "    </tr>\n",
              "    <tr>\n",
              "      <th>2</th>\n",
              "      <td>3</td>\n",
              "      <td>255.0</td>\n",
              "      <td>8.0</td>\n",
              "      <td>29.325137</td>\n",
              "      <td>27.0</td>\n",
              "      <td>10.869260</td>\n",
              "    </tr>\n",
              "    <tr>\n",
              "      <th>3</th>\n",
              "      <td>4</td>\n",
              "      <td>255.0</td>\n",
              "      <td>6.0</td>\n",
              "      <td>36.206785</td>\n",
              "      <td>34.0</td>\n",
              "      <td>13.552948</td>\n",
              "    </tr>\n",
              "  </tbody>\n",
              "</table>\n",
              "</div>\n",
              "      <button class=\"colab-df-convert\" onclick=\"convertToInteractive('df-4ebe60d8-78ed-452f-ae01-1a09cd8f96cd')\"\n",
              "              title=\"Convert this dataframe to an interactive table.\"\n",
              "              style=\"display:none;\">\n",
              "\n",
              "  <svg xmlns=\"http://www.w3.org/2000/svg\" height=\"24px\"viewBox=\"0 0 24 24\"\n",
              "       width=\"24px\">\n",
              "    <path d=\"M0 0h24v24H0V0z\" fill=\"none\"/>\n",
              "    <path d=\"M18.56 5.44l.94 2.06.94-2.06 2.06-.94-2.06-.94-.94-2.06-.94 2.06-2.06.94zm-11 1L8.5 8.5l.94-2.06 2.06-.94-2.06-.94L8.5 2.5l-.94 2.06-2.06.94zm10 10l.94 2.06.94-2.06 2.06-.94-2.06-.94-.94-2.06-.94 2.06-2.06.94z\"/><path d=\"M17.41 7.96l-1.37-1.37c-.4-.4-.92-.59-1.43-.59-.52 0-1.04.2-1.43.59L10.3 9.45l-7.72 7.72c-.78.78-.78 2.05 0 2.83L4 21.41c.39.39.9.59 1.41.59.51 0 1.02-.2 1.41-.59l7.78-7.78 2.81-2.81c.8-.78.8-2.07 0-2.86zM5.41 20L4 18.59l7.72-7.72 1.47 1.35L5.41 20z\"/>\n",
              "  </svg>\n",
              "      </button>\n",
              "\n",
              "\n",
              "\n",
              "    <div id=\"df-45376a74-e2aa-47ce-883e-0530e8562699\">\n",
              "      <button class=\"colab-df-quickchart\" onclick=\"quickchart('df-45376a74-e2aa-47ce-883e-0530e8562699')\"\n",
              "              title=\"Suggest charts.\"\n",
              "              style=\"display:none;\">\n",
              "\n",
              "<svg xmlns=\"http://www.w3.org/2000/svg\" height=\"24px\"viewBox=\"0 0 24 24\"\n",
              "     width=\"24px\">\n",
              "    <g>\n",
              "        <path d=\"M19 3H5c-1.1 0-2 .9-2 2v14c0 1.1.9 2 2 2h14c1.1 0 2-.9 2-2V5c0-1.1-.9-2-2-2zM9 17H7v-7h2v7zm4 0h-2V7h2v10zm4 0h-2v-4h2v4z\"/>\n",
              "    </g>\n",
              "</svg>\n",
              "      </button>\n",
              "    </div>\n",
              "\n",
              "<style>\n",
              "  .colab-df-quickchart {\n",
              "    background-color: #E8F0FE;\n",
              "    border: none;\n",
              "    border-radius: 50%;\n",
              "    cursor: pointer;\n",
              "    display: none;\n",
              "    fill: #1967D2;\n",
              "    height: 32px;\n",
              "    padding: 0 0 0 0;\n",
              "    width: 32px;\n",
              "  }\n",
              "\n",
              "  .colab-df-quickchart:hover {\n",
              "    background-color: #E2EBFA;\n",
              "    box-shadow: 0px 1px 2px rgba(60, 64, 67, 0.3), 0px 1px 3px 1px rgba(60, 64, 67, 0.15);\n",
              "    fill: #174EA6;\n",
              "  }\n",
              "\n",
              "  [theme=dark] .colab-df-quickchart {\n",
              "    background-color: #3B4455;\n",
              "    fill: #D2E3FC;\n",
              "  }\n",
              "\n",
              "  [theme=dark] .colab-df-quickchart:hover {\n",
              "    background-color: #434B5C;\n",
              "    box-shadow: 0px 1px 3px 1px rgba(0, 0, 0, 0.15);\n",
              "    filter: drop-shadow(0px 1px 2px rgba(0, 0, 0, 0.3));\n",
              "    fill: #FFFFFF;\n",
              "  }\n",
              "</style>\n",
              "\n",
              "    <script>\n",
              "      async function quickchart(key) {\n",
              "        const containerElement = document.querySelector('#' + key);\n",
              "        const charts = await google.colab.kernel.invokeFunction(\n",
              "            'suggestCharts', [key], {});\n",
              "      }\n",
              "    </script>\n",
              "\n",
              "      <script>\n",
              "\n",
              "function displayQuickchartButton(domScope) {\n",
              "  let quickchartButtonEl =\n",
              "    domScope.querySelector('#df-45376a74-e2aa-47ce-883e-0530e8562699 button.colab-df-quickchart');\n",
              "  quickchartButtonEl.style.display =\n",
              "    google.colab.kernel.accessAllowed ? 'block' : 'none';\n",
              "}\n",
              "\n",
              "        displayQuickchartButton(document);\n",
              "      </script>\n",
              "      <style>\n",
              "    .colab-df-container {\n",
              "      display:flex;\n",
              "      flex-wrap:wrap;\n",
              "      gap: 12px;\n",
              "    }\n",
              "\n",
              "    .colab-df-convert {\n",
              "      background-color: #E8F0FE;\n",
              "      border: none;\n",
              "      border-radius: 50%;\n",
              "      cursor: pointer;\n",
              "      display: none;\n",
              "      fill: #1967D2;\n",
              "      height: 32px;\n",
              "      padding: 0 0 0 0;\n",
              "      width: 32px;\n",
              "    }\n",
              "\n",
              "    .colab-df-convert:hover {\n",
              "      background-color: #E2EBFA;\n",
              "      box-shadow: 0px 1px 2px rgba(60, 64, 67, 0.3), 0px 1px 3px 1px rgba(60, 64, 67, 0.15);\n",
              "      fill: #174EA6;\n",
              "    }\n",
              "\n",
              "    [theme=dark] .colab-df-convert {\n",
              "      background-color: #3B4455;\n",
              "      fill: #D2E3FC;\n",
              "    }\n",
              "\n",
              "    [theme=dark] .colab-df-convert:hover {\n",
              "      background-color: #434B5C;\n",
              "      box-shadow: 0px 1px 3px 1px rgba(0, 0, 0, 0.15);\n",
              "      filter: drop-shadow(0px 1px 2px rgba(0, 0, 0, 0.3));\n",
              "      fill: #FFFFFF;\n",
              "    }\n",
              "  </style>\n",
              "\n",
              "      <script>\n",
              "        const buttonEl =\n",
              "          document.querySelector('#df-4ebe60d8-78ed-452f-ae01-1a09cd8f96cd button.colab-df-convert');\n",
              "        buttonEl.style.display =\n",
              "          google.colab.kernel.accessAllowed ? 'block' : 'none';\n",
              "\n",
              "        async function convertToInteractive(key) {\n",
              "          const element = document.querySelector('#df-4ebe60d8-78ed-452f-ae01-1a09cd8f96cd');\n",
              "          const dataTable =\n",
              "            await google.colab.kernel.invokeFunction('convertToInteractive',\n",
              "                                                     [key], {});\n",
              "          if (!dataTable) return;\n",
              "\n",
              "          const docLinkHtml = 'Like what you see? Visit the ' +\n",
              "            '<a target=\"_blank\" href=https://colab.research.google.com/notebooks/data_table.ipynb>data table notebook</a>'\n",
              "            + ' to learn more about interactive tables.';\n",
              "          element.innerHTML = '';\n",
              "          dataTable['output_type'] = 'display_data';\n",
              "          await google.colab.output.renderOutput(dataTable, element);\n",
              "          const docLink = document.createElement('div');\n",
              "          docLink.innerHTML = docLinkHtml;\n",
              "          element.appendChild(docLink);\n",
              "        }\n",
              "      </script>\n",
              "    </div>\n",
              "  </div>\n"
            ]
          },
          "metadata": {},
          "execution_count": 175
        }
      ]
    },
    {
      "cell_type": "code",
      "source": [
        "image_list = []\n",
        "for f in post_flist:\n",
        "    val = gdal.Open(f).ReadAsArray()\n",
        "    image_list.append(val)\n",
        "image_arr = np.asarray(image_list)\n",
        "print(image_arr.shape)\n",
        "# create a dataframe to store the band parameters\n",
        "para=pd.DataFrame()\n",
        "for i in range(image_arr.shape[0]):\n",
        "\n",
        "    data_scaled=image_arr[i,:,::]*1 # no scaled\n",
        "\n",
        "    max = np.max(data_scaled)\n",
        "    min = np.min(data_scaled)\n",
        "    mean = np.mean(data_scaled)\n",
        "    median = np.median(data_scaled)\n",
        "    std = np.std(data_scaled)\n",
        "\n",
        "\n",
        "    values = [ max, min, mean, median, std]\n",
        "    names = [ 'max', 'min', 'mean', 'median', 'std']\n",
        "\n",
        "    out = pd.Series(dict(zip(names, values)))\n",
        "    row = pd.Series({'band':str(i+1)})\n",
        "    row = row.append(out)\n",
        "    print('band '+str(i+1)+\" finished\")\n",
        "\n",
        "    para = para.append(row,ignore_index=True)\n",
        "\n",
        "del image_arr,image_list"
      ],
      "metadata": {
        "colab": {
          "base_uri": "https://localhost:8080/"
        },
        "id": "r25_EVpQgvDJ",
        "outputId": "4c83695b-e96b-424f-81ea-0107618d9e93"
      },
      "execution_count": null,
      "outputs": [
        {
          "output_type": "stream",
          "name": "stdout",
          "text": [
            "(4, 1608, 1374)\n",
            "band 1 finished\n",
            "band 2 finished\n",
            "band 3 finished\n",
            "band 4 finished\n"
          ]
        },
        {
          "output_type": "stream",
          "name": "stderr",
          "text": [
            "<ipython-input-13-25a51f496ae7>:25: FutureWarning: The series.append method is deprecated and will be removed from pandas in a future version. Use pandas.concat instead.\n",
            "  row = row.append(out)\n",
            "<ipython-input-13-25a51f496ae7>:28: FutureWarning: The frame.append method is deprecated and will be removed from pandas in a future version. Use pandas.concat instead.\n",
            "  para = para.append(row,ignore_index=True)\n",
            "<ipython-input-13-25a51f496ae7>:25: FutureWarning: The series.append method is deprecated and will be removed from pandas in a future version. Use pandas.concat instead.\n",
            "  row = row.append(out)\n",
            "<ipython-input-13-25a51f496ae7>:28: FutureWarning: The frame.append method is deprecated and will be removed from pandas in a future version. Use pandas.concat instead.\n",
            "  para = para.append(row,ignore_index=True)\n",
            "<ipython-input-13-25a51f496ae7>:25: FutureWarning: The series.append method is deprecated and will be removed from pandas in a future version. Use pandas.concat instead.\n",
            "  row = row.append(out)\n",
            "<ipython-input-13-25a51f496ae7>:28: FutureWarning: The frame.append method is deprecated and will be removed from pandas in a future version. Use pandas.concat instead.\n",
            "  para = para.append(row,ignore_index=True)\n",
            "<ipython-input-13-25a51f496ae7>:25: FutureWarning: The series.append method is deprecated and will be removed from pandas in a future version. Use pandas.concat instead.\n",
            "  row = row.append(out)\n",
            "<ipython-input-13-25a51f496ae7>:28: FutureWarning: The frame.append method is deprecated and will be removed from pandas in a future version. Use pandas.concat instead.\n",
            "  para = para.append(row,ignore_index=True)\n"
          ]
        }
      ]
    },
    {
      "cell_type": "code",
      "source": [
        "para"
      ],
      "metadata": {
        "colab": {
          "base_uri": "https://localhost:8080/",
          "height": 175
        },
        "id": "DuGB2OZegx1n",
        "outputId": "0084275b-5887-4db4-8aa9-0a1ecd685018"
      },
      "execution_count": null,
      "outputs": [
        {
          "output_type": "execute_result",
          "data": {
            "text/plain": [
              "  band    max  min       mean  median        std\n",
              "0    1  141.0  6.0  18.708497    18.0   5.718679\n",
              "1    2  255.0  0.0  23.100706    21.0   9.549387\n",
              "2    3  255.0  4.0  29.449422    27.0  11.183702\n",
              "3    4  255.0  6.0  36.682764    35.0  13.876719"
            ],
            "text/html": [
              "\n",
              "\n",
              "  <div id=\"df-e5102520-480e-4d4a-a2b7-8d031481bbd4\">\n",
              "    <div class=\"colab-df-container\">\n",
              "      <div>\n",
              "<style scoped>\n",
              "    .dataframe tbody tr th:only-of-type {\n",
              "        vertical-align: middle;\n",
              "    }\n",
              "\n",
              "    .dataframe tbody tr th {\n",
              "        vertical-align: top;\n",
              "    }\n",
              "\n",
              "    .dataframe thead th {\n",
              "        text-align: right;\n",
              "    }\n",
              "</style>\n",
              "<table border=\"1\" class=\"dataframe\">\n",
              "  <thead>\n",
              "    <tr style=\"text-align: right;\">\n",
              "      <th></th>\n",
              "      <th>band</th>\n",
              "      <th>max</th>\n",
              "      <th>min</th>\n",
              "      <th>mean</th>\n",
              "      <th>median</th>\n",
              "      <th>std</th>\n",
              "    </tr>\n",
              "  </thead>\n",
              "  <tbody>\n",
              "    <tr>\n",
              "      <th>0</th>\n",
              "      <td>1</td>\n",
              "      <td>141.0</td>\n",
              "      <td>6.0</td>\n",
              "      <td>18.708497</td>\n",
              "      <td>18.0</td>\n",
              "      <td>5.718679</td>\n",
              "    </tr>\n",
              "    <tr>\n",
              "      <th>1</th>\n",
              "      <td>2</td>\n",
              "      <td>255.0</td>\n",
              "      <td>0.0</td>\n",
              "      <td>23.100706</td>\n",
              "      <td>21.0</td>\n",
              "      <td>9.549387</td>\n",
              "    </tr>\n",
              "    <tr>\n",
              "      <th>2</th>\n",
              "      <td>3</td>\n",
              "      <td>255.0</td>\n",
              "      <td>4.0</td>\n",
              "      <td>29.449422</td>\n",
              "      <td>27.0</td>\n",
              "      <td>11.183702</td>\n",
              "    </tr>\n",
              "    <tr>\n",
              "      <th>3</th>\n",
              "      <td>4</td>\n",
              "      <td>255.0</td>\n",
              "      <td>6.0</td>\n",
              "      <td>36.682764</td>\n",
              "      <td>35.0</td>\n",
              "      <td>13.876719</td>\n",
              "    </tr>\n",
              "  </tbody>\n",
              "</table>\n",
              "</div>\n",
              "      <button class=\"colab-df-convert\" onclick=\"convertToInteractive('df-e5102520-480e-4d4a-a2b7-8d031481bbd4')\"\n",
              "              title=\"Convert this dataframe to an interactive table.\"\n",
              "              style=\"display:none;\">\n",
              "\n",
              "  <svg xmlns=\"http://www.w3.org/2000/svg\" height=\"24px\"viewBox=\"0 0 24 24\"\n",
              "       width=\"24px\">\n",
              "    <path d=\"M0 0h24v24H0V0z\" fill=\"none\"/>\n",
              "    <path d=\"M18.56 5.44l.94 2.06.94-2.06 2.06-.94-2.06-.94-.94-2.06-.94 2.06-2.06.94zm-11 1L8.5 8.5l.94-2.06 2.06-.94-2.06-.94L8.5 2.5l-.94 2.06-2.06.94zm10 10l.94 2.06.94-2.06 2.06-.94-2.06-.94-.94-2.06-.94 2.06-2.06.94z\"/><path d=\"M17.41 7.96l-1.37-1.37c-.4-.4-.92-.59-1.43-.59-.52 0-1.04.2-1.43.59L10.3 9.45l-7.72 7.72c-.78.78-.78 2.05 0 2.83L4 21.41c.39.39.9.59 1.41.59.51 0 1.02-.2 1.41-.59l7.78-7.78 2.81-2.81c.8-.78.8-2.07 0-2.86zM5.41 20L4 18.59l7.72-7.72 1.47 1.35L5.41 20z\"/>\n",
              "  </svg>\n",
              "      </button>\n",
              "\n",
              "\n",
              "\n",
              "    <div id=\"df-33fe1530-eb69-4c89-894b-ae8c85e6282f\">\n",
              "      <button class=\"colab-df-quickchart\" onclick=\"quickchart('df-33fe1530-eb69-4c89-894b-ae8c85e6282f')\"\n",
              "              title=\"Suggest charts.\"\n",
              "              style=\"display:none;\">\n",
              "\n",
              "<svg xmlns=\"http://www.w3.org/2000/svg\" height=\"24px\"viewBox=\"0 0 24 24\"\n",
              "     width=\"24px\">\n",
              "    <g>\n",
              "        <path d=\"M19 3H5c-1.1 0-2 .9-2 2v14c0 1.1.9 2 2 2h14c1.1 0 2-.9 2-2V5c0-1.1-.9-2-2-2zM9 17H7v-7h2v7zm4 0h-2V7h2v10zm4 0h-2v-4h2v4z\"/>\n",
              "    </g>\n",
              "</svg>\n",
              "      </button>\n",
              "    </div>\n",
              "\n",
              "<style>\n",
              "  .colab-df-quickchart {\n",
              "    background-color: #E8F0FE;\n",
              "    border: none;\n",
              "    border-radius: 50%;\n",
              "    cursor: pointer;\n",
              "    display: none;\n",
              "    fill: #1967D2;\n",
              "    height: 32px;\n",
              "    padding: 0 0 0 0;\n",
              "    width: 32px;\n",
              "  }\n",
              "\n",
              "  .colab-df-quickchart:hover {\n",
              "    background-color: #E2EBFA;\n",
              "    box-shadow: 0px 1px 2px rgba(60, 64, 67, 0.3), 0px 1px 3px 1px rgba(60, 64, 67, 0.15);\n",
              "    fill: #174EA6;\n",
              "  }\n",
              "\n",
              "  [theme=dark] .colab-df-quickchart {\n",
              "    background-color: #3B4455;\n",
              "    fill: #D2E3FC;\n",
              "  }\n",
              "\n",
              "  [theme=dark] .colab-df-quickchart:hover {\n",
              "    background-color: #434B5C;\n",
              "    box-shadow: 0px 1px 3px 1px rgba(0, 0, 0, 0.15);\n",
              "    filter: drop-shadow(0px 1px 2px rgba(0, 0, 0, 0.3));\n",
              "    fill: #FFFFFF;\n",
              "  }\n",
              "</style>\n",
              "\n",
              "    <script>\n",
              "      async function quickchart(key) {\n",
              "        const containerElement = document.querySelector('#' + key);\n",
              "        const charts = await google.colab.kernel.invokeFunction(\n",
              "            'suggestCharts', [key], {});\n",
              "      }\n",
              "    </script>\n",
              "\n",
              "      <script>\n",
              "\n",
              "function displayQuickchartButton(domScope) {\n",
              "  let quickchartButtonEl =\n",
              "    domScope.querySelector('#df-33fe1530-eb69-4c89-894b-ae8c85e6282f button.colab-df-quickchart');\n",
              "  quickchartButtonEl.style.display =\n",
              "    google.colab.kernel.accessAllowed ? 'block' : 'none';\n",
              "}\n",
              "\n",
              "        displayQuickchartButton(document);\n",
              "      </script>\n",
              "      <style>\n",
              "    .colab-df-container {\n",
              "      display:flex;\n",
              "      flex-wrap:wrap;\n",
              "      gap: 12px;\n",
              "    }\n",
              "\n",
              "    .colab-df-convert {\n",
              "      background-color: #E8F0FE;\n",
              "      border: none;\n",
              "      border-radius: 50%;\n",
              "      cursor: pointer;\n",
              "      display: none;\n",
              "      fill: #1967D2;\n",
              "      height: 32px;\n",
              "      padding: 0 0 0 0;\n",
              "      width: 32px;\n",
              "    }\n",
              "\n",
              "    .colab-df-convert:hover {\n",
              "      background-color: #E2EBFA;\n",
              "      box-shadow: 0px 1px 2px rgba(60, 64, 67, 0.3), 0px 1px 3px 1px rgba(60, 64, 67, 0.15);\n",
              "      fill: #174EA6;\n",
              "    }\n",
              "\n",
              "    [theme=dark] .colab-df-convert {\n",
              "      background-color: #3B4455;\n",
              "      fill: #D2E3FC;\n",
              "    }\n",
              "\n",
              "    [theme=dark] .colab-df-convert:hover {\n",
              "      background-color: #434B5C;\n",
              "      box-shadow: 0px 1px 3px 1px rgba(0, 0, 0, 0.15);\n",
              "      filter: drop-shadow(0px 1px 2px rgba(0, 0, 0, 0.3));\n",
              "      fill: #FFFFFF;\n",
              "    }\n",
              "  </style>\n",
              "\n",
              "      <script>\n",
              "        const buttonEl =\n",
              "          document.querySelector('#df-e5102520-480e-4d4a-a2b7-8d031481bbd4 button.colab-df-convert');\n",
              "        buttonEl.style.display =\n",
              "          google.colab.kernel.accessAllowed ? 'block' : 'none';\n",
              "\n",
              "        async function convertToInteractive(key) {\n",
              "          const element = document.querySelector('#df-e5102520-480e-4d4a-a2b7-8d031481bbd4');\n",
              "          const dataTable =\n",
              "            await google.colab.kernel.invokeFunction('convertToInteractive',\n",
              "                                                     [key], {});\n",
              "          if (!dataTable) return;\n",
              "\n",
              "          const docLinkHtml = 'Like what you see? Visit the ' +\n",
              "            '<a target=\"_blank\" href=https://colab.research.google.com/notebooks/data_table.ipynb>data table notebook</a>'\n",
              "            + ' to learn more about interactive tables.';\n",
              "          element.innerHTML = '';\n",
              "          dataTable['output_type'] = 'display_data';\n",
              "          await google.colab.output.renderOutput(dataTable, element);\n",
              "          const docLink = document.createElement('div');\n",
              "          docLink.innerHTML = docLinkHtml;\n",
              "          element.appendChild(docLink);\n",
              "        }\n",
              "      </script>\n",
              "    </div>\n",
              "  </div>\n"
            ]
          },
          "metadata": {},
          "execution_count": 173
        }
      ]
    },
    {
      "cell_type": "code",
      "source": [
        "band_dict = {1: \"Band 1 - Blue\", 2: \"Band 2 - Green\", 3: \"Band 3 - Red\", 4: \"Band 4 - NIR\"}"
      ],
      "metadata": {
        "id": "MDJE3m8LKkSa"
      },
      "execution_count": null,
      "outputs": []
    },
    {
      "cell_type": "code",
      "source": [
        "def normalizaed_data(img):\n",
        "    #min-max normalization of the image based on all images\n",
        "    #four bands, for different min, max\n",
        "    max = [151, 255, 255, 255]\n",
        "    min = [6, 0, 4, 6]\n",
        "    img_normalized=np.zeros(img.shape)\n",
        "    for i in range(4):\n",
        "        img_normalized[i,:,:]=(img[i,:,:]-min[i])/(max[i]-min[i])\n",
        "\n",
        "    return img_normalized.astype(np.float64)"
      ],
      "metadata": {
        "id": "JySyn0D7Kqzx"
      },
      "execution_count": null,
      "outputs": []
    },
    {
      "cell_type": "code",
      "source": [
        "def recover_data(arr):\n",
        "    #recover min-max normalized image\n",
        "    max = [151, 255, 255, 255]\n",
        "    min = [6, 0, 4, 6]\n",
        "    img_recovered=np.zeros(arr.shape)\n",
        "    for i in range(4):\n",
        "        img_recovered[i,:,:]=arr[i,:,:]*(max[i]-min[i])+min[i]\n",
        "\n",
        "    return img_recovered.astype(np.float64)"
      ],
      "metadata": {
        "id": "jVQZ1hkkK5VO"
      },
      "execution_count": null,
      "outputs": []
    },
    {
      "cell_type": "code",
      "source": [
        "def tiffs_to_3d_array(tiff_files):\n",
        "    try:\n",
        "        tif_arrays = []\n",
        "        for tiff_file in tiff_files:\n",
        "            with Image.open(tiff_file) as img:\n",
        "                # Convert the image to a NumPy array\n",
        "                img_array = np.array(img)\n",
        "                tif_arrays.append(img_array)\n",
        "\n",
        "        # Stack the arrays along the first dimension (band dimension)\n",
        "        result_array = np.stack(tif_arrays, axis=0)\n",
        "        return result_array\n",
        "\n",
        "    except Exception as e:\n",
        "        print(\"Error occurred:\", e)\n",
        "        return None"
      ],
      "metadata": {
        "id": "1tldEWi4bgCH"
      },
      "execution_count": null,
      "outputs": []
    },
    {
      "cell_type": "code",
      "source": [
        "def load_image(img_src,normalization = True):\n",
        "    '''\n",
        "    args:\n",
        "    img_src - directory to the target image\n",
        "\n",
        "    return:\n",
        "    data_mtrx - a dictionary of two data matrices for pre and post fire; each of them is in 3 dimensions (band,rows,cols)\n",
        "    meta_data - metadata includes: transformation, projection, numerber of rows, number of columns, number of bands\n",
        "    band_dict - band dictionary includes the information of each band\n",
        "    '''\n",
        "\n",
        "    threedtiff = tiffs_to_3d_array(img_src)\n",
        "\n",
        "    if normalization:\n",
        "        ds_arr = normalizaed_data(threedtiff)\n",
        "    print(\"Loading image is done!\")\n",
        "    return ds_arr"
      ],
      "metadata": {
        "id": "s_NjauzrK-nc"
      },
      "execution_count": null,
      "outputs": []
    },
    {
      "cell_type": "code",
      "source": [
        "def create_image_tile(img_src, out_dir, stride_size=32, tile_size = 32):\n",
        "    '''\n",
        "    args:\n",
        "    data_mtrx - a path to 3-dimensional data matrix read from a satellite image\n",
        "\n",
        "    tile_size - the size of the tile in integer, the default size is 3*3\n",
        "    stride_size - the size of the stride in integer, for the size of moving pixels for each tile\n",
        "    output - True/False, whether output the data matrix, the default is False\n",
        "    out_dir - output directory of the tiled image the default is None. If the ouput is True, the out_dir is required. Output data type should be acceptable for the numpy.save, npy is recommended.\n",
        "\n",
        "    return:\n",
        "    data_mtrx_tile - a data matrix of the image after tiling\n",
        "\n",
        "    '''\n",
        "    data_mtrx = load_image(img_src)\n",
        "    print(data_mtrx.shape)\n",
        "    bands, rows, cols = data_mtrx.shape\n",
        "\n",
        "    print(\"Start tiling the image...\")\n",
        "\n",
        "    new_rows = math.floor(1+(rows-tile_size)/stride_size) #asking huiqi to check this one, need to be changed\n",
        "    new_cols = math.floor(1+(cols-tile_size)/stride_size)\n",
        "\n",
        "    print(\"The numbers of rows and columns after tiling are (%d, %d)\"%(new_rows,new_cols))\n",
        "\n",
        "    for i in range(new_rows):\n",
        "        if i<10:\n",
        "            str_new_rows = '000'+str(i)\n",
        "        elif i<100:\n",
        "            str_new_rows = '00'+str(i)\n",
        "        # if not os.path.exists(os.path.join(out_dir,str_new_rows)):\n",
        "        #       os.mkdir(os.path.join(out_dir,str_new_rows))\n",
        "        for j in range(new_cols):\n",
        "            if j<10:\n",
        "                str_new_cols = '000'+str(j)\n",
        "            elif j<100:\n",
        "                str_new_cols = '00'+str(j)\n",
        "            cropped_arr = data_mtrx[:,i*stride_size : (i*stride_size+tile_size), j*stride_size : (j*stride_size+tile_size)]\n",
        "            # cropped_arr[cropped_arr==0.0]=np.nan\n",
        "            if np.isnan(cropped_arr).sum() == 0:\n",
        "                output_file = os.path.join(out_dir,str_new_rows+'_'+str_new_cols+\".npy\")\n",
        "                np.save(output_file, cropped_arr)\n",
        "            if i == 0 and j==0:\n",
        "                print(\"After tiling, the size of data matrix becomes: \", cropped_arr.shape)\n",
        "    del data_mtrx, cropped_arr"
      ],
      "metadata": {
        "id": "bgiOYhSKLAde"
      },
      "execution_count": null,
      "outputs": []
    },
    {
      "cell_type": "markdown",
      "source": [
        "### Prepare PreFire"
      ],
      "metadata": {
        "id": "5TtcP-RXfUhf"
      }
    },
    {
      "cell_type": "code",
      "source": [
        "!mkdir Pre_nparray\n",
        "!mkdir Post_nparray"
      ],
      "metadata": {
        "id": "sTg8ea2bvbmA"
      },
      "execution_count": null,
      "outputs": []
    },
    {
      "cell_type": "code",
      "source": [
        "Post_dir = 'Post_nparray'\n",
        "Pre_dir = 'Pre_nparray'"
      ],
      "metadata": {
        "id": "lqjHsQE79HQz"
      },
      "execution_count": null,
      "outputs": []
    },
    {
      "cell_type": "code",
      "source": [
        "start = time.time()\n",
        "create_image_tile(pre_flist,out_dir = \"/content/\"+Pre_dir,stride_size=16, tile_size =32)\n",
        "print(\"Done. %.2f mintues\" %((time.time()-start)/60))"
      ],
      "metadata": {
        "colab": {
          "base_uri": "https://localhost:8080/"
        },
        "id": "MTofIoXGLCev",
        "outputId": "e195506e-e475-46da-eb81-9396e334504e"
      },
      "execution_count": null,
      "outputs": [
        {
          "output_type": "stream",
          "name": "stdout",
          "text": [
            "Loading image is done!\n",
            "(4, 1608, 1374)\n",
            "Start tiling the image...\n",
            "The numbers of rows and columns after tiling are (99, 84)\n",
            "After tiling, the size of data matrix becomes:  (4, 32, 32)\n",
            "Done. 0.06 mintues\n"
          ]
        }
      ]
    },
    {
      "cell_type": "code",
      "source": [
        "test = np.load(\"/content/\"+Pre_dir+\"/0006_0008.npy\")\n",
        "test = test*10"
      ],
      "metadata": {
        "id": "E_YbNCCEeAx8"
      },
      "execution_count": null,
      "outputs": []
    },
    {
      "cell_type": "code",
      "source": [
        "plt.figure()\n",
        "plt.imshow(np.moveaxis(test[[2,1,0],:,:],0,-1))\n",
        "plt.axis(\"off\")\n",
        "plt.show()"
      ],
      "metadata": {
        "colab": {
          "base_uri": "https://localhost:8080/",
          "height": 423
        },
        "id": "ycVjcAxVeIHr",
        "outputId": "cd171d2f-4fb5-45cd-86b9-2ed18bd952d2"
      },
      "execution_count": null,
      "outputs": [
        {
          "output_type": "stream",
          "name": "stderr",
          "text": [
            "WARNING:matplotlib.image:Clipping input data to the valid range for imshow with RGB data ([0..1] for floats or [0..255] for integers).\n"
          ]
        },
        {
          "output_type": "display_data",
          "data": {
            "text/plain": [
              "<Figure size 640x480 with 1 Axes>"
            ],
            "image/png": "[encoded data removed]"
          },
          "metadata": {}
        }
      ]
    },
    {
      "cell_type": "code",
      "source": [
        "pre_list = glob.glob(\"/content/\"+Pre_dir+\"/*.npy\")"
      ],
      "metadata": {
        "id": "5kdIGmGLefK_"
      },
      "execution_count": null,
      "outputs": []
    },
    {
      "cell_type": "code",
      "source": [
        "len(pre_list)"
      ],
      "metadata": {
        "colab": {
          "base_uri": "https://localhost:8080/"
        },
        "id": "iancEKSEeocm",
        "outputId": "b64e04d8-4b33-4430-9f3d-a0556b5396ac"
      },
      "execution_count": null,
      "outputs": [
        {
          "output_type": "execute_result",
          "data": {
            "text/plain": [
              "8316"
            ]
          },
          "metadata": {},
          "execution_count": 138
        }
      ]
    },
    {
      "cell_type": "markdown",
      "source": [
        "### Prepare PostFire"
      ],
      "metadata": {
        "id": "vEoY6307fYtD"
      }
    },
    {
      "cell_type": "code",
      "source": [
        "start = time.time()\n",
        "create_image_tile(post_flist,out_dir = \"/content/\"+Post_dir,stride_size=16, tile_size = 32)\n",
        "print(\"Done. %.2f mintues\" %((time.time()-start)/60))"
      ],
      "metadata": {
        "colab": {
          "base_uri": "https://localhost:8080/"
        },
        "id": "ZM6IW0_rfctL",
        "outputId": "77133beb-315a-4f93-c5fc-29c63a22b387"
      },
      "execution_count": null,
      "outputs": [
        {
          "output_type": "stream",
          "name": "stdout",
          "text": [
            "Loading image is done!\n",
            "(4, 1608, 1374)\n",
            "Start tiling the image...\n",
            "The numbers of rows and columns after tiling are (99, 84)\n",
            "After tiling, the size of data matrix becomes:  (4, 32, 32)\n",
            "Done. 0.05 mintues\n"
          ]
        }
      ]
    },
    {
      "cell_type": "code",
      "source": [
        "test = np.load(\"/content/\"+Post_dir+\"/0006_0008.npy\")\n",
        "test = test*10"
      ],
      "metadata": {
        "id": "6bGDbfuLfeJn"
      },
      "execution_count": null,
      "outputs": []
    },
    {
      "cell_type": "code",
      "source": [
        "plt.figure()\n",
        "plt.imshow(np.moveaxis(test[[2,1,0],:,:],0,-1))\n",
        "plt.axis(\"off\")\n",
        "plt.show()"
      ],
      "metadata": {
        "colab": {
          "base_uri": "https://localhost:8080/",
          "height": 423
        },
        "id": "9Ms66tPzffSL",
        "outputId": "627050c6-74d2-407d-9652-550996fdbd8d"
      },
      "execution_count": null,
      "outputs": [
        {
          "output_type": "stream",
          "name": "stderr",
          "text": [
            "WARNING:matplotlib.image:Clipping input data to the valid range for imshow with RGB data ([0..1] for floats or [0..255] for integers).\n"
          ]
        },
        {
          "output_type": "display_data",
          "data": {
            "text/plain": [
              "<Figure size 640x480 with 1 Axes>"
            ],
            "image/png": "[encoded data removed]"
          },
          "metadata": {}
        }
      ]
    },
    {
      "cell_type": "code",
      "source": [
        "post_list = glob.glob(\"/content/\"+Post_dir+\"/*.npy\")"
      ],
      "metadata": {
        "id": "OXPw2CuajHA6"
      },
      "execution_count": null,
      "outputs": []
    },
    {
      "cell_type": "code",
      "source": [
        "len(post_list)"
      ],
      "metadata": {
        "colab": {
          "base_uri": "https://localhost:8080/"
        },
        "id": "o6L5_FcWjIBf",
        "outputId": "deec4305-8ba6-44fc-b917-5ffb16d654dc"
      },
      "execution_count": null,
      "outputs": [
        {
          "output_type": "execute_result",
          "data": {
            "text/plain": [
              "8316"
            ]
          },
          "metadata": {},
          "execution_count": 143
        }
      ]
    },
    {
      "cell_type": "markdown",
      "source": [
        "## Prediction"
      ],
      "metadata": {
        "id": "3h1w0YheGubO"
      }
    },
    {
      "cell_type": "code",
      "source": [
        "import os\n",
        "import glob\n",
        "import numpy as np\n",
        "import matplotlib.pyplot as plt\n",
        "from sklearn.cluster import KMeans\n",
        "import torchvision\n",
        "from torchvision import transforms\n",
        "from torchvision import models\n",
        "import torchvision.transforms.functional as TF\n",
        "import torch\n",
        "from torch import nn\n",
        "import torch.backends.cudnn as cudnn\n",
        "from torch.utils.data import DataLoader\n",
        "from torch.utils.data.dataloader import default_collate\n",
        "from torch.utils.data import Dataset\n",
        "from torchsummary import summary\n",
        "from tqdm import tqdm\n",
        "import PIL\n",
        "from PIL import Image\n",
        "from skimage import io, transform\n",
        "import random\n",
        "import argparse"
      ],
      "metadata": {
        "id": "LZOP2K76VfJy"
      },
      "execution_count": null,
      "outputs": []
    },
    {
      "cell_type": "code",
      "source": [
        "class FixedRotationTransform:\n",
        "    \"\"\"Rotate by one of the given angles.\"\"\"\n",
        "\n",
        "    def __init__(self, angles):\n",
        "        self.angles = angles\n",
        "\n",
        "    def __call__(self, x):\n",
        "        angle = random.choice(self.angles)\n",
        "        return TF.rotate(x, angle)\n",
        "\n",
        "class AddGaussianNoise(object):\n",
        "    def __init__(self, mean=0., std=1.):\n",
        "        self.std = std\n",
        "        self.mean = mean\n",
        "\n",
        "    def __call__(self, tensor):\n",
        "        return tensor + torch.randn(tensor.size()) * self.std + self.mean\n",
        "\n",
        "    def __repr__(self):\n",
        "        return self.__class__.__name__ + '(mean={0}, std={1})'.format(self.mean, self.std)"
      ],
      "metadata": {
        "id": "5H-HRt2nEDCB"
      },
      "execution_count": null,
      "outputs": []
    },
    {
      "cell_type": "code",
      "source": [
        "class ContrastiveLearningViewGenerator(object):\n",
        "    \"\"\"Take two random crops of one image as the query and key.\"\"\"\n",
        "\n",
        "    def __init__(self, base_transform, n_views=2):\n",
        "        self.base_transform = base_transform\n",
        "        self.n_views = n_views\n",
        "\n",
        "    def __call__(self, x):\n",
        "        return [self.base_transform(x) for i in range(self.n_views)]\n",
        "\n",
        "\n",
        "class ContrastiveLearningDataset:\n",
        "    def __init__(self, num_trans_func,list_trans):\n",
        "        self.num_trans_func = num_trans_func\n",
        "        self.list_trans = list_trans\n",
        "\n",
        "    def random_number(self):\n",
        "        return np.random.randint(0,self.num_trans_func)\n",
        "\n",
        "    def get_trans_func(self):\n",
        "\n",
        "        idx1 = self.random_number()\n",
        "        idx2 = self.random_number()\n",
        "\n",
        "        img_transforms = transforms.Compose([transforms.ToTensor(), #must have to read the array as a PIL image, then could be used as an input to transforms\n",
        "                                        self.list_trans[idx1],\n",
        "                                        self.list_trans[idx2]])\n",
        "\n",
        "        return img_transforms"
      ],
      "metadata": {
        "id": "kKMOpROxEJqZ"
      },
      "execution_count": null,
      "outputs": []
    },
    {
      "cell_type": "code",
      "source": [
        "class Load_Transformed_Dataset(Dataset):\n",
        "    def __init__(self, training_flist, transform=None):\n",
        "        self.training_flist = training_flist\n",
        "        self.transform = transform\n",
        "\n",
        "    def __len__(self):\n",
        "        return len(self.training_flist)\n",
        "\n",
        "    def __getitem__(self, idx):\n",
        "        img_dir = self.training_flist[idx]\n",
        "        img_arr = np.load(img_dir) #channel, h, w\n",
        "        #not sure why, but img_arr need to change to h,w,c to make the transform work\n",
        "        img_arr = np.moveaxis(img_arr,0,-1)\n",
        "        #print(img_arr.shape)\n",
        "        if self.transform:\n",
        "            img_arr = self.transform(img_arr)\n",
        "            #img_arr = img_arr[0] #get the tensor from list\n",
        "\n",
        "        return img_arr"
      ],
      "metadata": {
        "id": "focFoWo7EM4M"
      },
      "execution_count": null,
      "outputs": []
    },
    {
      "cell_type": "code",
      "source": [
        "ds_ex = gdal.Open(\"/content/post-disas/2023-07-19-00:00_2023-07-19-23:59_Sentinel-2_L2A_True_color.tiff\")\n",
        "\n",
        "ds_geot = ds_ex.GetGeoTransform()\n",
        "ds_proj = ds_ex.GetProjection()\n",
        "ds_rows = ds_ex.RasterYSize\n",
        "ds_cols = ds_ex.RasterXSize\n",
        "ds_bands = ds_ex.RasterCount\n",
        "\n",
        "print(ds_geot,ds_proj,ds_rows,ds_cols,ds_bands)\n",
        "geot = [23.854958, 8.98376764386535e-05, 0.0, 37.83684, 0.0, -7.100000000000145e-05]"
      ],
      "metadata": {
        "colab": {
          "base_uri": "https://localhost:8080/"
        },
        "id": "PzhckCp7Y2pY",
        "outputId": "b620569c-9ef6-4075-9e26-f95b87202076"
      },
      "execution_count": null,
      "outputs": [
        {
          "output_type": "stream",
          "name": "stdout",
          "text": [
            "(23.904808, 8.985371179039333e-05, 0.0, 37.849261, 0.0, -7.099253731343361e-05) GEOGCS[\"WGS 84\",DATUM[\"WGS_1984\",SPHEROID[\"WGS 84\",6378137,298.257223563,AUTHORITY[\"EPSG\",\"7030\"]],AUTHORITY[\"EPSG\",\"6326\"]],PRIMEM[\"Greenwich\",0],UNIT[\"degree\",0.0174532925199433,AUTHORITY[\"EPSG\",\"9122\"]],AXIS[\"Latitude\",NORTH],AXIS[\"Longitude\",EAST],AUTHORITY[\"EPSG\",\"4326\"]] 1608 1374 3\n"
          ]
        }
      ]
    },
    {
      "cell_type": "code",
      "source": [
        "device = 'cuda' if torch.cuda.is_available() else 'cpu'\n",
        "print(\"Using device:\", device)"
      ],
      "metadata": {
        "colab": {
          "base_uri": "https://localhost:8080/"
        },
        "id": "VnGEPQOZEwHW",
        "outputId": "37530f1e-1441-49be-cf2f-20ed3cc515c2"
      },
      "execution_count": null,
      "outputs": [
        {
          "output_type": "stream",
          "name": "stdout",
          "text": [
            "Using device: cuda\n"
          ]
        }
      ]
    },
    {
      "cell_type": "code",
      "source": [
        "checkpoint = torch.load('/content/S2_Mesa.tar', map_location = device)\n",
        "\n",
        "state_dict = checkpoint['state_dict']\n",
        "\n",
        "for name in state_dict:\n",
        "    print(name)"
      ],
      "metadata": {
        "colab": {
          "base_uri": "https://localhost:8080/"
        },
        "id": "784qiug4Ey8W",
        "outputId": "69799bec-f7b1-4a76-cabe-742732f48949"
      },
      "execution_count": null,
      "outputs": [
        {
          "output_type": "stream",
          "name": "stdout",
          "text": [
            "module.encoder.conv.0.0.weight\n",
            "module.encoder.conv.0.0.bias\n",
            "module.encoder.conv.0.2.weight\n",
            "module.encoder.conv.0.2.bias\n",
            "module.encoder.conv.1.0.weight\n",
            "module.encoder.conv.1.0.bias\n",
            "module.encoder.conv.1.2.weight\n",
            "module.encoder.conv.1.2.bias\n",
            "module.projection.0.weight\n",
            "module.projection.0.bias\n",
            "module.projection.2.weight\n",
            "module.projection.2.bias\n"
          ]
        }
      ]
    },
    {
      "cell_type": "code",
      "source": [
        "for k in list(state_dict.keys()):\n",
        "    if k.startswith('module.encoder.'):\n",
        "        print(k)\n",
        "        print(state_dict[k].shape)\n",
        "        #print(k[len('module.encoder.'):])\n",
        "        #print(state_dict[k])\n",
        "        state_dict[k[len('module.encoder.'):]] = state_dict[k]"
      ],
      "metadata": {
        "colab": {
          "base_uri": "https://localhost:8080/"
        },
        "id": "Pd_eDRCrE9t2",
        "outputId": "d59bb687-82a6-475d-a65e-20ec3a38030f"
      },
      "execution_count": null,
      "outputs": [
        {
          "output_type": "stream",
          "name": "stdout",
          "text": [
            "module.encoder.conv.0.0.weight\n",
            "torch.Size([32, 4, 3, 3])\n",
            "module.encoder.conv.0.0.bias\n",
            "torch.Size([32])\n",
            "module.encoder.conv.0.2.weight\n",
            "torch.Size([32, 32, 3, 3])\n",
            "module.encoder.conv.0.2.bias\n",
            "torch.Size([32])\n",
            "module.encoder.conv.1.0.weight\n",
            "torch.Size([256, 32, 3, 3])\n",
            "module.encoder.conv.1.0.bias\n",
            "torch.Size([256])\n",
            "module.encoder.conv.1.2.weight\n",
            "torch.Size([256, 256, 3, 3])\n",
            "module.encoder.conv.1.2.bias\n",
            "torch.Size([256])\n"
          ]
        }
      ]
    },
    {
      "cell_type": "code",
      "source": [
        "print(state_dict.keys())"
      ],
      "metadata": {
        "colab": {
          "base_uri": "https://localhost:8080/"
        },
        "id": "tGmcUkhzE_2b",
        "outputId": "46266bce-f930-47db-f47b-0664fb3ca962"
      },
      "execution_count": null,
      "outputs": [
        {
          "output_type": "stream",
          "name": "stdout",
          "text": [
            "odict_keys(['module.encoder.conv.0.0.weight', 'module.encoder.conv.0.0.bias', 'module.encoder.conv.0.2.weight', 'module.encoder.conv.0.2.bias', 'module.encoder.conv.1.0.weight', 'module.encoder.conv.1.0.bias', 'module.encoder.conv.1.2.weight', 'module.encoder.conv.1.2.bias', 'module.projection.0.weight', 'module.projection.0.bias', 'module.projection.2.weight', 'module.projection.2.bias', 'conv.0.0.weight', 'conv.0.0.bias', 'conv.0.2.weight', 'conv.0.2.bias', 'conv.1.0.weight', 'conv.1.0.bias', 'conv.1.2.weight', 'conv.1.2.bias'])\n"
          ]
        }
      ]
    },
    {
      "cell_type": "code",
      "source": [
        "class SimpleCNN(nn.Module):\n",
        "    \"\"\"\n",
        "    4-layer fully conv CNN\n",
        "    \"\"\"\n",
        "    def __init__(self, n_channels, tile_size, out_dim):\n",
        "        super().__init__()\n",
        "\n",
        "        self.conv = nn.Sequential(\n",
        "            self.double_conv(n_channels, tile_size),\n",
        "            self.double_conv(tile_size, out_dim),\n",
        "            nn.AdaptiveAvgPool2d((1, 1)),\n",
        "            nn.Flatten()\n",
        "        )\n",
        "\n",
        "    def double_conv(self,input_size,output_size):\n",
        "\n",
        "        return nn.Sequential(\n",
        "            nn.Conv2d(input_size, output_size, kernel_size = 3, padding=1),\n",
        "            nn.ReLU(inplace=True),\n",
        "            nn.Conv2d(output_size, output_size, kernel_size = 3, padding=1),\n",
        "            nn.ReLU(inplace=True))\n",
        "\n",
        "    def forward(self, x):\n",
        "        return self.conv(x)"
      ],
      "metadata": {
        "id": "BDwt-VVeFQ9a"
      },
      "execution_count": null,
      "outputs": []
    },
    {
      "cell_type": "code",
      "source": [
        "class CNN_SimCLR(nn.Module): # we call it FireCLR\n",
        "\n",
        "    def __init__(self, validation = False,n_channels=4, tile_size=32, out_dim=256):\n",
        "        # inputting 4 channel RGB+NIR\n",
        "        # the tile size (window size) is 32 by 32 pixels\n",
        "        # dimension of the hidden-layer vector is 256\n",
        "        super().__init__()\n",
        "        self.n_channels = n_channels\n",
        "        self.tile_size = tile_size\n",
        "        self.out_dim = out_dim\n",
        "        self.validation = validation\n",
        "\n",
        "        # encoding part f(.)\n",
        "        # a simple cnn architechture encodes the (32,32,4) to a 256-dimension hidden space\n",
        "        self.encoder = self._get_cnn()\n",
        "        # projection part g(.)\n",
        "        # a fully connected layer transforms (256,1) hidden layer vector to (128,1)\n",
        "        self.projection = nn.Sequential(\n",
        "            nn.Linear(out_dim, out_dim),\n",
        "            nn.ReLU(),\n",
        "            nn.Linear(out_dim, 128)\n",
        "        )\n",
        "\n",
        "\n",
        "    def _get_cnn(self):\n",
        "        # import the cnn model from simple_cnn\n",
        "        try:\n",
        "            model = SimpleCNN(self.n_channels, self.tile_size, self.out_dim)\n",
        "        except KeyError:\n",
        "            raise ValueError(\n",
        "                \"Invalid architecture. Check the simple_cnn.py file\")\n",
        "        else:\n",
        "            return model\n",
        "\n",
        "    def forward(self, x):\n",
        "        # return the proposed model\n",
        "        # if for training, return the full model\n",
        "        # if for validation, only return the encoding part f(.)\n",
        "        encoding = self.encoder(x)\n",
        "        projection = self.projection(encoding)\n",
        "\n",
        "        if self.validation:\n",
        "            return encoding\n",
        "        else:\n",
        "            return projection"
      ],
      "metadata": {
        "id": "4W2Mu5iJFExK"
      },
      "execution_count": null,
      "outputs": []
    },
    {
      "cell_type": "code",
      "source": [
        "class SimCLR(object):\n",
        "    '''\n",
        "    This class was built based on Thalles Silva's implementation using Pytorch: https://github.com/sthalles/SimCLR\n",
        "    '''\n",
        "\n",
        "    def __init__(self, args_dict, optimizer, model, scheduler):\n",
        "        self.args_dict = args_dict\n",
        "        self.model = model.to(self.args_dict[\"device\"])\n",
        "        self.optimizer = optimizer\n",
        "        self.scheduler = scheduler\n",
        "        self.writer = SummaryWriter()\n",
        "        logging.basicConfig(filename=os.path.join(self.writer.log_dir, 'training.log'), level=logging.DEBUG)\n",
        "        self.criterion = torch.nn.CrossEntropyLoss().to(self.args_dict[\"device\"])\n",
        "\n",
        "    def info_nce_loss(self, features):\n",
        "\n",
        "        labels = torch.cat([torch.arange(self.args_dict[\"batch_size\"]) for i in range(self.args_dict[\"n_views\"])], dim=0)\n",
        "        labels = (labels.unsqueeze(0) == labels.unsqueeze(1)).float()\n",
        "        # print(\"labels shape and labels:\")\n",
        "        # print(labels.shape)\n",
        "        # print(labels)\n",
        "        labels = labels.to(self.args_dict[\"device\"])\n",
        "\n",
        "        # print(\"features shape: \", features.shape)\n",
        "        features = F.normalize(features, dim=1)\n",
        "\n",
        "        similarity_matrix = torch.matmul(features, features.T)\n",
        "\n",
        "        # print(\"Similarity matrix shape: \", similarity_matrix.shape)\n",
        "\n",
        "        # assert similarity_matrix.shape == (\n",
        "        #     self.args_dict.n_views * self.args_dict.batch_size, self.args_dict.n_views * self.args_dict.batch_size)\n",
        "        # assert similarity_matrix.shape == labels.shape\n",
        "\n",
        "        # discard the main diagonal from both: labels and similarities matrix\n",
        "        mask = torch.eye(labels.shape[0], dtype=torch.bool).to(self.args_dict[\"device\"])\n",
        "        # print(\"Mask: \", mask)\n",
        "        labels = labels[~mask].view(labels.shape[0], -1)\n",
        "\n",
        "        # print(\"Masked labels:\")\n",
        "\n",
        "        # print(labels, labels.shape)\n",
        "\n",
        "        similarity_matrix = similarity_matrix[~mask].view(similarity_matrix.shape[0], -1)\n",
        "        # print(\"Masked similarity matrix and its shape: \", similarity_matrix, similarity_matrix.shape)\n",
        "        assert similarity_matrix.shape == labels.shape\n",
        "\n",
        "        # select and combine multiple positives\n",
        "        positives = similarity_matrix[labels.bool()].view(labels.shape[0], -1)\n",
        "        # print(\"Masked positives similarity matrix and its shape: \", positives, positives.shape)\n",
        "        # select only the negatives\n",
        "        negatives = similarity_matrix[~labels.bool()].view(similarity_matrix.shape[0], -1)\n",
        "        # print(\"Masked negatives similarity matrix and its shape: \", negatives, negatives.shape)\n",
        "\n",
        "        logits = torch.cat([positives, negatives], dim=1)\n",
        "        # print(\"logits shape: \", logits.shape)\n",
        "\n",
        "        labels = torch.zeros(logits.shape[0], dtype=torch.long).to(self.args_dict[\"device\"])\n",
        "        # print(\"labels and its shape: \", labels, labels.shape)\n",
        "\n",
        "        logits = logits / self.args_dict[\"temperature\"]\n",
        "        # print(\"Output logits and input temperature: \", self.args_dict[\"temperature\"],logits, logits.shape)\n",
        "\n",
        "        return logits, labels\n",
        "\n",
        "    def train(self, train_loader):\n",
        "\n",
        "        scaler = GradScaler(enabled=self.args_dict[\"fp16_precision\"])\n",
        "\n",
        "        # save config file\n",
        "        save_config_file(self.writer.log_dir, self.args_dict)\n",
        "\n",
        "        n_iter = 0\n",
        "        logging.info(\"Start SimCLR training for %d epochs.\" %self.args_dict[\"epochs\"])\n",
        "        #logging.info(f\"Training with gpu: {self.args_dict.disable_cuda}.\")\n",
        "\n",
        "        for epoch_counter in range(self.args_dict[\"epochs\"]):\n",
        "            for image_1, image_2 in tqdm(train_loader):\n",
        "                images = torch.cat((image_1,image_2), dim=0)\n",
        "\n",
        "                images = images.to(self.args_dict[\"device\"],dtype=torch.float)\n",
        "\n",
        "                with autocast(enabled=self.args_dict[\"fp16_precision\"]):\n",
        "                    features = self.model(images)\n",
        "                    logits, labels = self.info_nce_loss(features)\n",
        "                    loss = self.criterion(logits, labels)\n",
        "\n",
        "                self.optimizer.zero_grad()\n",
        "\n",
        "                scaler.scale(loss).backward()\n",
        "\n",
        "                scaler.step(self.optimizer)\n",
        "                scaler.update()\n",
        "\n",
        "                if n_iter % self.args_dict[\"log_every_n_steps\"] == 0:\n",
        "                    top1, top5 = accuracy(logits, labels, topk=(1, 5))\n",
        "                    self.writer.add_scalar('loss', loss, global_step=n_iter)\n",
        "                    self.writer.add_scalar('acc/top1', top1[0], global_step=n_iter)\n",
        "                    self.writer.add_scalar('acc/top5', top5[0], global_step=n_iter)\n",
        "                    self.writer.add_scalar('learning_rate', self.scheduler.get_last_lr()[0], global_step=n_iter) #update get_last_lr()?\n",
        "\n",
        "                if n_iter % self.args_dict[\"checkpoint_every_n_steps\"] == 0:\n",
        "                    # save model checkpoints\n",
        "                    checkpoint_name = 'checkpoint_{:04d}.pth.tar'.format(n_iter//self.args_dict[\"checkpoint_every_n_steps\"])\n",
        "                    save_checkpoint({\n",
        "                        'step': n_iter,\n",
        "                        'arch': self.args_dict[\"arch\"],\n",
        "                        'state_dict': self.model.state_dict(),\n",
        "                        'optimizer': self.optimizer.state_dict(),\n",
        "                    }, is_best=False, filename=os.path.join(self.writer.log_dir, checkpoint_name))\n",
        "                    logging.info(f\"Model checkpoint and metadata has been saved at {self.writer.log_dir}.\")\n",
        "\n",
        "                n_iter += 1\n",
        "\n",
        "            # warmup for the first 10 epochs\n",
        "            if epoch_counter >= 10:\n",
        "                self.scheduler.step()\n",
        "            logging.debug(f\"Epoch: {epoch_counter}\\tLoss: {loss}\\tTop1 accuracy: {top1[0]}\")\n",
        "\n",
        "        logging.info(\"Training has finished.\")\n",
        "        # save model checkpoints\n",
        "        checkpoint_name = 'checkpoint_{:04d}.pth.tar'.format(self.args_dict[\"epochs\"])\n",
        "        save_checkpoint({\n",
        "            'epoch': self.args_dict[\"epochs\"],\n",
        "            'arch': self.args_dict[\"arch\"],\n",
        "            'state_dict': self.model.state_dict(),\n",
        "            'optimizer': self.optimizer.state_dict(),\n",
        "        }, is_best=False, filename=os.path.join(self.writer.log_dir, checkpoint_name))\n",
        "        logging.info(f\"Model checkpoint and metadata has been saved at {self.writer.log_dir}.\")"
      ],
      "metadata": {
        "id": "ekzTkQAOFIcu"
      },
      "execution_count": null,
      "outputs": []
    },
    {
      "cell_type": "code",
      "source": [
        "model = CNN_SimCLR(validation=True, n_channels=4, tile_size=32, out_dim=256).to(device) #self-defined CNN"
      ],
      "metadata": {
        "id": "q4Z2kI2FFBgl"
      },
      "execution_count": null,
      "outputs": []
    },
    {
      "cell_type": "code",
      "source": [
        "log = model.load_state_dict(state_dict, strict=False)\n",
        "log.missing_keys"
      ],
      "metadata": {
        "colab": {
          "base_uri": "https://localhost:8080/"
        },
        "id": "FDKpcfsZFUpe",
        "outputId": "bf221583-402f-49f2-f69e-bf5d11181444"
      },
      "execution_count": null,
      "outputs": [
        {
          "output_type": "execute_result",
          "data": {
            "text/plain": [
              "['encoder.conv.0.0.weight',\n",
              " 'encoder.conv.0.0.bias',\n",
              " 'encoder.conv.0.2.weight',\n",
              " 'encoder.conv.0.2.bias',\n",
              " 'encoder.conv.1.0.weight',\n",
              " 'encoder.conv.1.0.bias',\n",
              " 'encoder.conv.1.2.weight',\n",
              " 'encoder.conv.1.2.bias',\n",
              " 'projection.0.weight',\n",
              " 'projection.0.bias',\n",
              " 'projection.2.weight',\n",
              " 'projection.2.bias']"
            ]
          },
          "metadata": {},
          "execution_count": 157
        }
      ]
    },
    {
      "cell_type": "code",
      "source": [
        "# freeze all layers but the projection head\n",
        "for name, param in model.named_parameters():\n",
        "    if name not in ['projection.0.weight', 'projection.0.bias','projection.2.weight','projection.2.bias']:\n",
        "        param.requires_grad = False\n",
        "\n",
        "parameters = list(filter(lambda p: p.requires_grad, model.parameters()))\n",
        "#assert len(parameters) == 2  # fc.weight, fc.bias"
      ],
      "metadata": {
        "id": "jJ1TS6tgFW_y"
      },
      "execution_count": null,
      "outputs": []
    },
    {
      "cell_type": "code",
      "source": [
        "optimizer = torch.optim.Adam(model.parameters(), 0.0003, weight_decay= 1e-4)\n",
        "criterion = torch.nn.CrossEntropyLoss().to(device)"
      ],
      "metadata": {
        "id": "4QVggko-FY80"
      },
      "execution_count": null,
      "outputs": []
    },
    {
      "cell_type": "code",
      "source": [
        "class Load_Transformed_Dataset(Dataset):\n",
        "    def __init__(self, training_flist, transform=None):\n",
        "        self.training_flist = training_flist\n",
        "        self.transform = transform\n",
        "\n",
        "    def __len__(self):\n",
        "        return len(self.training_flist)\n",
        "\n",
        "    def __getitem__(self, idx):\n",
        "        img_dir = self.training_flist[idx]\n",
        "        img_arr = np.load(img_dir) #channel, h, w\n",
        "        #not sure why, but img_arr need to change to h,w,c to make the transform work, dont need in the validation\n",
        "        img_arr[img_arr==0]=np.nan\n",
        "        #img_arr = np.moveaxis(img_arr,0,-1)\n",
        "        #print(img_arr.shape)\n",
        "        if self.transform:\n",
        "            img_arr = self.transform(img_arr)\n",
        "            #img_arr = img_arr[0] #get the tensor from list\n",
        "\n",
        "        return img_arr"
      ],
      "metadata": {
        "id": "mFwQE1ZWFZzn"
      },
      "execution_count": null,
      "outputs": []
    },
    {
      "cell_type": "code",
      "source": [
        "import time\n",
        "prefire_list = glob.glob(\"/content/\"+Pre_dir+\"/*.npy\")\n",
        "prefire_list.sort()\n",
        "prefire_dataset = Load_Transformed_Dataset(prefire_list)\n",
        "pre_logits_list = []\n",
        "empty_arr = np.empty((256,))\n",
        "empty_arr[:] = np.nan\n",
        "model.eval()\n",
        "start_time = time.time()\n",
        "for _, x_batch in enumerate(prefire_dataset):\n",
        "    if np.isnan(x_batch).sum() != 0:\n",
        "        pre_logits_list.append(empty_arr)\n",
        "    else:\n",
        "        x_batch = torch.tensor(x_batch)\n",
        "        x_batch = x_batch.view(1, 4, 32, 32).to(device,dtype=torch.float) #change the datatype to torch.FloatTensor\n",
        "        logits = model.forward(x_batch)\n",
        "        pre_logits_list.append(logits.cpu().detach().numpy().reshape(256,))\n",
        "\n",
        "print(\"Prediction is done. It takes %.2f minutes\" %((time.time()-start_time)/60))"
      ],
      "metadata": {
        "colab": {
          "base_uri": "https://localhost:8080/"
        },
        "id": "-pLiZkZlFd2U",
        "outputId": "d1981169-e2e2-46ee-faa4-f4f0468600c3"
      },
      "execution_count": null,
      "outputs": [
        {
          "output_type": "stream",
          "name": "stdout",
          "text": [
            "Prediction is done. It takes 0.17 minutes\n"
          ]
        }
      ]
    },
    {
      "cell_type": "code",
      "source": [
        "np.save(\"/content/CD_results/S2_pre_logits_20230624.npy\",pre_logits_list)"
      ],
      "metadata": {
        "id": "ljY-qouwiDG1"
      },
      "execution_count": null,
      "outputs": []
    },
    {
      "cell_type": "code",
      "source": [
        "postfire_list = glob.glob(\"/content/\"+Post_dir+\"/*.npy\")\n",
        "postfire_list.sort()\n",
        "postfire_dataset = Load_Transformed_Dataset(postfire_list)\n",
        "post_logits_list = []\n",
        "empty_arr = np.empty((256,))\n",
        "empty_arr[:] = np.nan\n",
        "model.eval()\n",
        "start_time = time.time()\n",
        "for _, x_batch in enumerate(postfire_dataset):\n",
        "    if np.isnan(x_batch).sum() != 0:\n",
        "\n",
        "        post_logits_list.append(empty_arr)\n",
        "    else:\n",
        "        x_batch = torch.tensor(x_batch)\n",
        "        x_batch = x_batch.view(1, 4, 32, 32).to(device,dtype=torch.float) #change the datatype to torch.FloatTensor\n",
        "        logits = model.forward(x_batch)\n",
        "        post_logits_list.append(logits.cpu().detach().numpy().reshape(256,))\n",
        "\n",
        "print(\"Prediction is done. It takes %.2f minutes\" %((time.time()-start_time)/60))"
      ],
      "metadata": {
        "colab": {
          "base_uri": "https://localhost:8080/"
        },
        "id": "oxMIEVVeiLEa",
        "outputId": "c5ce88b9-8959-4064-b5ab-3e035c971b76"
      },
      "execution_count": null,
      "outputs": [
        {
          "output_type": "stream",
          "name": "stdout",
          "text": [
            "Prediction is done. It takes 0.17 minutes\n"
          ]
        }
      ]
    },
    {
      "cell_type": "code",
      "source": [
        "np.save(\"./CD_results/S2_post_logits_20230624.npy\",post_logits_list)"
      ],
      "metadata": {
        "id": "bIdN7AgSiPRW"
      },
      "execution_count": null,
      "outputs": []
    },
    {
      "cell_type": "code",
      "source": [
        "def cosine_distance(a,b):\n",
        "    a_dot_b = np.dot(a,b.T)\n",
        "    a_norm = np.sqrt(np.sum(a*a))\n",
        "    b_norm = np.sqrt(np.sum(b*b))\n",
        "    return a_dot_b/(a_norm*b_norm)"
      ],
      "metadata": {
        "id": "FMcBbUJfiTdZ"
      },
      "execution_count": null,
      "outputs": []
    },
    {
      "cell_type": "code",
      "source": [
        "def euclidean_distance(a,b):\n",
        "    diff = a-b\n",
        "    u_dist = np.sqrt(np.sum(diff*diff))\n",
        "    return u_dist"
      ],
      "metadata": {
        "id": "BGMeH5mdiUQL"
      },
      "execution_count": null,
      "outputs": []
    },
    {
      "cell_type": "code",
      "source": [
        "# reshape the pre and post fire data\n",
        "empty_arr = np.empty((256,))\n",
        "empty_arr[:] = np.nan\n",
        "new_post_logits_list = []\n",
        "for i in post_logits_list:\n",
        "    if type(i)==float:\n",
        "        new_post_logits_list.append(empty_arr)\n",
        "    else:\n",
        "        new_post_logits_list.append(i.reshape(256,))\n",
        "\n",
        "new_pre_logits_list = []\n",
        "for i in pre_logits_list:\n",
        "    if type(i)==float:\n",
        "        new_pre_logits_list.append(empty_arr)\n",
        "    else:\n",
        "        new_pre_logits_list.append(i.reshape(256,))"
      ],
      "metadata": {
        "id": "VDM3weN6iVyy"
      },
      "execution_count": null,
      "outputs": []
    },
    {
      "cell_type": "code",
      "source": [
        "# difference between pre and post extracted vectors\n",
        "diff = np.asarray(new_post_logits_list)-np.asarray(new_pre_logits_list)"
      ],
      "metadata": {
        "id": "H8lWhu_miXUA"
      },
      "execution_count": null,
      "outputs": []
    },
    {
      "cell_type": "code",
      "source": [
        "#kmean, clusters = 5, image difference\n",
        "kmeans_2_diff = KMeans(n_clusters=2)\n",
        "diff[np.isnan(diff)] = 0.0\n",
        "kmeans_2_diff.fit(diff)"
      ],
      "metadata": {
        "colab": {
          "base_uri": "https://localhost:8080/",
          "height": 110
        },
        "id": "nrQsRRUviXr6",
        "outputId": "f4537968-4191-428e-ec07-5807a9d43d92"
      },
      "execution_count": null,
      "outputs": [
        {
          "output_type": "stream",
          "name": "stderr",
          "text": [
            "/usr/local/lib/python3.10/dist-packages/sklearn/cluster/_kmeans.py:870: FutureWarning: The default value of `n_init` will change from 10 to 'auto' in 1.4. Set the value of `n_init` explicitly to suppress the warning\n",
            "  warnings.warn(\n"
          ]
        },
        {
          "output_type": "execute_result",
          "data": {
            "text/plain": [
              "KMeans(n_clusters=2)"
            ],
            "text/html": [
              "<style>#sk-container-id-3 {color: black;background-color: white;}#sk-container-id-3 pre{padding: 0;}#sk-container-id-3 div.sk-toggleable {background-color: white;}#sk-container-id-3 label.sk-toggleable__label {cursor: pointer;display: block;width: 100%;margin-bottom: 0;padding: 0.3em;box-sizing: border-box;text-align: center;}#sk-container-id-3 label.sk-toggleable__label-arrow:before {content: \"▸\";float: left;margin-right: 0.25em;color: #696969;}#sk-container-id-3 label.sk-toggleable__label-arrow:hover:before {color: black;}#sk-container-id-3 div.sk-estimator:hover label.sk-toggleable__label-arrow:before {color: black;}#sk-container-id-3 div.sk-toggleable__content {max-height: 0;max-width: 0;overflow: hidden;text-align: left;background-color: #f0f8ff;}#sk-container-id-3 div.sk-toggleable__content pre {margin: 0.2em;color: black;border-radius: 0.25em;background-color: #f0f8ff;}#sk-container-id-3 input.sk-toggleable__control:checked~div.sk-toggleable__content {max-height: 200px;max-width: 100%;overflow: auto;}#sk-container-id-3 input.sk-toggleable__control:checked~label.sk-toggleable__label-arrow:before {content: \"▾\";}#sk-container-id-3 div.sk-estimator input.sk-toggleable__control:checked~label.sk-toggleable__label {background-color: #d4ebff;}#sk-container-id-3 div.sk-label input.sk-toggleable__control:checked~label.sk-toggleable__label {background-color: #d4ebff;}#sk-container-id-3 input.sk-hidden--visually {border: 0;clip: rect(1px 1px 1px 1px);clip: rect(1px, 1px, 1px, 1px);height: 1px;margin: -1px;overflow: hidden;padding: 0;position: absolute;width: 1px;}#sk-container-id-3 div.sk-estimator {font-family: monospace;background-color: #f0f8ff;border: 1px dotted black;border-radius: 0.25em;box-sizing: border-box;margin-bottom: 0.5em;}#sk-container-id-3 div.sk-estimator:hover {background-color: #d4ebff;}#sk-container-id-3 div.sk-parallel-item::after {content: \"\";width: 100%;border-bottom: 1px solid gray;flex-grow: 1;}#sk-container-id-3 div.sk-label:hover label.sk-toggleable__label {background-color: #d4ebff;}#sk-container-id-3 div.sk-serial::before {content: \"\";position: absolute;border-left: 1px solid gray;box-sizing: border-box;top: 0;bottom: 0;left: 50%;z-index: 0;}#sk-container-id-3 div.sk-serial {display: flex;flex-direction: column;align-items: center;background-color: white;padding-right: 0.2em;padding-left: 0.2em;position: relative;}#sk-container-id-3 div.sk-item {position: relative;z-index: 1;}#sk-container-id-3 div.sk-parallel {display: flex;align-items: stretch;justify-content: center;background-color: white;position: relative;}#sk-container-id-3 div.sk-item::before, #sk-container-id-3 div.sk-parallel-item::before {content: \"\";position: absolute;border-left: 1px solid gray;box-sizing: border-box;top: 0;bottom: 0;left: 50%;z-index: -1;}#sk-container-id-3 div.sk-parallel-item {display: flex;flex-direction: column;z-index: 1;position: relative;background-color: white;}#sk-container-id-3 div.sk-parallel-item:first-child::after {align-self: flex-end;width: 50%;}#sk-container-id-3 div.sk-parallel-item:last-child::after {align-self: flex-start;width: 50%;}#sk-container-id-3 div.sk-parallel-item:only-child::after {width: 0;}#sk-container-id-3 div.sk-dashed-wrapped {border: 1px dashed gray;margin: 0 0.4em 0.5em 0.4em;box-sizing: border-box;padding-bottom: 0.4em;background-color: white;}#sk-container-id-3 div.sk-label label {font-family: monospace;font-weight: bold;display: inline-block;line-height: 1.2em;}#sk-container-id-3 div.sk-label-container {text-align: center;}#sk-container-id-3 div.sk-container {/* jupyter's `normalize.less` sets `[hidden] { display: none; }` but bootstrap.min.css set `[hidden] { display: none !important; }` so we also need the `!important` here to be able to override the default hidden behavior on the sphinx rendered scikit-learn.org. See: https://github.com/scikit-learn/scikit-learn/issues/21755 */display: inline-block !important;position: relative;}#sk-container-id-3 div.sk-text-repr-fallback {display: none;}</style><div id=\"sk-container-id-3\" class=\"sk-top-container\"><div class=\"sk-text-repr-fallback\"><pre>KMeans(n_clusters=2)</pre><b>In a Jupyter environment, please rerun this cell to show the HTML representation or trust the notebook. <br />On GitHub, the HTML representation is unable to render, please try loading this page with nbviewer.org.</b></div><div class=\"sk-container\" hidden><div class=\"sk-item\"><div class=\"sk-estimator sk-toggleable\"><input class=\"sk-toggleable__control sk-hidden--visually\" id=\"sk-estimator-id-3\" type=\"checkbox\" checked><label for=\"sk-estimator-id-3\" class=\"sk-toggleable__label sk-toggleable__label-arrow\">KMeans</label><div class=\"sk-toggleable__content\"><pre>KMeans(n_clusters=2)</pre></div></div></div></div></div>"
            ]
          },
          "metadata": {},
          "execution_count": 169
        }
      ]
    },
    {
      "cell_type": "code",
      "source": [
        "kmeans_2_diff_change_labels = kmeans_2_diff.labels_.reshape(99, 84)\n",
        "#change detection map based on the kmeans2 image differecing 256\n",
        "plt.figure(figsize=(10,10))\n",
        "plt.imshow(kmeans_2_diff_change_labels,cmap='Greys_r')\n",
        "plt.axis(\"off\")\n",
        "plt.show()"
      ],
      "metadata": {
        "colab": {
          "base_uri": "https://localhost:8080/",
          "height": 807
        },
        "id": "shNBvM0niZtu",
        "outputId": "3759b7b4-406b-4a89-e47a-4d9ffbc0195f"
      },
      "execution_count": null,
      "outputs": [
        {
          "output_type": "display_data",
          "data": {
            "text/plain": [
              "<Figure size 1000x1000 with 1 Axes>"
            ],
            "image/png": "[encoded data removed]"
          },
          "metadata": {}
        }
      ]
    },
    {
      "cell_type": "code",
      "source": [
        "import rasterio\n",
        "from affine import Affine\n",
        "\n",
        "transf = ds_ex.GetGeoTransform()\n",
        "afn = Affine.from_gdal(*transf)\n",
        "\n",
        "# Replace 'sentinel_data' with your actual NumPy array containing the Sentinel-2 data\n",
        "sentinel_data = kmeans_2_diff_change_labels\n",
        "\n",
        "# Define the spatial information (coordinate reference system, resolution, and bounding box) for the GeoTIFF\n",
        "# Replace these values with the appropriate information for your dataset\n",
        "crs = 'EPSG:4326'  # The coordinate reference system (e.g., WGS 84)\n",
        "transform =  afn # The affine transformation (how the data is georeferenced)\n",
        "width, height = 1374, 1608  # Width and height of the data\n",
        "# bbox = (23.856118,37.739514 ,24.039408, 37.836692 )         # The bounding box of the data (e.g., (minx, miny, maxx, maxy))\n",
        "\n",
        "# Define the output GeoTIFF filename\n",
        "output_geotiff = 'CD_result_Kmean2.tif'\n",
        "\n",
        "# Create the profile for the GeoTIFF\n",
        "profile = {\n",
        "    'driver': 'GTiff',\n",
        "    'dtype': sentinel_data.dtype,\n",
        "    'count': 1,           # Number of bands (in this case, it's just one band)\n",
        "    'height': height,\n",
        "    'width': width,\n",
        "    'crs': crs,\n",
        "    'transform': transform,\n",
        "    # 'bbox':bbox\n",
        "}\n",
        "\n",
        "# Write the data to a GeoTIFF file\n",
        "with rasterio.open(output_geotiff, 'w', **profile) as dst:\n",
        "    dst.write(sentinel_data, 1)  # '1' indicates the band index (only one band in this case)"
      ],
      "metadata": {
        "id": "gdbq8_0rd_iX"
      },
      "execution_count": null,
      "outputs": []
    },
    {
      "cell_type": "markdown",
      "source": [
        "## Validation"
      ],
      "metadata": {
        "id": "XL6pIQHDpVCj"
      }
    },
    {
      "cell_type": "code",
      "source": [
        "from sklearn.metrics import ConfusionMatrixDisplay\n",
        "from sklearn.metrics import precision_recall_curve, auc, f1_score, precision_score, recall_score, accuracy_score, confusion_matrix, ConfusionMatrixDisplay\n",
        "import rasterio as rio\n",
        "from rasterio import features\n",
        "from rasterio.features import rasterize\n",
        "import rasterio.plot as rioplt\n",
        "import geopandas as gpd"
      ],
      "metadata": {
        "id": "vGBRLtQRpgGs"
      },
      "execution_count": null,
      "outputs": []
    },
    {
      "cell_type": "code",
      "source": [
        "def simple_burnt_validation(prediction, labels,out_dir=None, postive_values=1, sampling = False):\n",
        "    '''\n",
        "    prediction: path of the prediction\n",
        "    labels: path of the shapefile indicating the binary result\n",
        "    sampling: default is false, if the ratio larger than 2 or smaller than 0.5, will be changed to True defautly\n",
        "    '''\n",
        "    rs_prediction = rio.open(prediction)\n",
        "    rs_pred_prj = rs_prediction.crs.data['init']\n",
        "    rs_pred_arr = rs_prediction.read().astype(np.int16)\n",
        "    vector = gpd.read_file(labels)\n",
        "\n",
        "    vector_rpj = vector.to_crs(rs_pred_prj)\n",
        "    geom = [shapes for shapes in vector_rpj.geometry]\n",
        "    rasterized_label = features.rasterize(geom,\n",
        "                            out_shape = rs_prediction.shape,\n",
        "                            fill = 0,\n",
        "                            out = None,\n",
        "                            transform = rs_prediction.transform,\n",
        "                            all_touched = True,\n",
        "                            default_value = 1,\n",
        "                            dtype = None)\n",
        "    # Plot raster\n",
        "    fig, ax = plt.subplots(1,2, figsize = (20, 10))\n",
        "    rioplt.show(rasterized_label, ax = ax[0])\n",
        "    if postive_values:\n",
        "        rioplt.show(rs_pred_arr, ax = ax[1])\n",
        "    else:\n",
        "        rioplt.show(1-rs_pred_arr, ax = ax[1])\n",
        "    ax[0].axis(\"off\")\n",
        "    ax[0].set_title(\"Label\")\n",
        "    ax[1].axis(\"off\")\n",
        "    ax[1].set_title(\"Prediction\")\n",
        "\n",
        "    if type(out_dir) == str:\n",
        "        plt.savefig(out_dir,dpi=300)\n",
        "    else:\n",
        "        plt.show()\n",
        "    #check the ratio of the postive vs negative labels\n",
        "    num_pos_label = np.sum(rasterized_label)\n",
        "    num_neg_label = np.sum(1-rasterized_label)\n",
        "    ratio = num_pos_label/num_neg_label\n",
        "    if ratio < 0.5 or ratio>2:\n",
        "        sampling = True\n",
        "\n",
        "    #randomly downsampling the major label to fit the minor label\n",
        "    if sampling:\n",
        "\n",
        "        if num_pos_label < num_neg_label: #number of negative labels > postive\n",
        "            majority_row_col = np.argwhere(rasterized_label==0)\n",
        "            minority_row_col = np.argwhere(rasterized_label==1)\n",
        "            minor_num = num_pos_label\n",
        "            major_num = num_neg_label\n",
        "            major_label = 0\n",
        "        else:\n",
        "            majority_row_col = np.argwhere(rasterized_label==1)\n",
        "            minority_row_col = np.argwhere(rasterized_label==0)\n",
        "            minor_num = num_neg_label\n",
        "            major_num = num_pos_label\n",
        "            major_label = 1\n",
        "\n",
        "        rand_idx = np.random.randint(0, high=major_num, size=minor_num, dtype=int)\n",
        "        sampled_major_row_col = majority_row_col[rand_idx,:]\n",
        "\n",
        "        df_label = pd.DataFrame(data = {\"row\": np.concatenate((sampled_major_row_col[:,0],minority_row_col[:,0]),axis = 0),\n",
        "                                    \"col\":np.concatenate((sampled_major_row_col[:,1],minority_row_col[:,1]),axis = 0),\n",
        "                                    \"label\": np.concatenate((np.full((minor_num,),major_label),np.full((minor_num,),1-major_label)),axis = 0)})\n",
        "        pred_arr = rs_pred_arr[:,df_label.row.values,df_label.col.values].flatten()\n",
        "        if postive_values:\n",
        "            df_pred = pd.DataFrame(data = {\"row\": df_label.row.values,\n",
        "                                            \"col\": df_label.col.values,\n",
        "                                            \"label\": pred_arr})\n",
        "        else:\n",
        "            df_pred = pd.DataFrame(data = {\"row\": df_label.row.values,\n",
        "                                            \"col\": df_label.col.values,\n",
        "                                            \"label\": 1-pred_arr})\n",
        "\n",
        "    #no downsampling, comparing directly\n",
        "    else:\n",
        "        neg_label_loc = np.argwhere(rasterized_label==0)\n",
        "        pos_label_loc = np.argwhere(rasterized_label==1)\n",
        "        df_label =  pd.DataFrame(data = {\"row\": np.concatenate((neg_label_loc[:,0],pos_label_loc[:,0]),axis = 0),\n",
        "                                \"col\":np.concatenate((neg_label_loc[:,1],pos_label_loc[:,1]),axis = 0),\n",
        "                                \"label\": np.concatenate((np.full((neg_label_loc.shape[0],),0),np.full((pos_label_loc.shape[0],),1)),axis = 0)})\n",
        "        pred_arr = rs_pred_arr[:,df_label.row.values,df_label.col.values].flatten()\n",
        "        if postive_values:\n",
        "            df_pred = pd.DataFrame(data = {\"row\": df_label.row.values,\n",
        "                                            \"col\": df_label.col.values,\n",
        "                                            \"label\": pred_arr})\n",
        "        else:\n",
        "            df_pred = pd.DataFrame(data = {\"row\": df_label.row.values,\n",
        "                                            \"col\": df_label.col.values,\n",
        "                                            \"label\": 1-pred_arr})\n",
        "\n",
        "    cm = confusion_matrix(df_label.label.values, df_pred.label.values)\n",
        "\n",
        "    f1 = f1_score(df_label.label.values, df_pred.label.values)\n",
        "    precision = precision_score(df_label.label.values, df_pred.label.values)\n",
        "    recall = recall_score(df_label.label.values, df_pred.label.values)\n",
        "    accuracy = accuracy_score(df_label.label.values, df_pred.label.values)\n",
        "\n",
        "    return df_label,df_pred,cm,f1,precision,recall,accuracy"
      ],
      "metadata": {
        "id": "p_rfvKtHprW4"
      },
      "execution_count": null,
      "outputs": []
    },
    {
      "cell_type": "markdown",
      "source": [
        "### CNN_CLR"
      ],
      "metadata": {
        "id": "Zw-I3LhXvn5T"
      }
    },
    {
      "cell_type": "code",
      "source": [
        "df_label,df_pred,cm,f1,precision,recall,accuracy = simple_burnt_validation(\"/content/CD_result_Kmean2.tif\", \"/content/EMSR672_AOI01_DEL_PRODUCT_observedEventA_v1.shp\", out_dir = \"/content/cnnclr_cluster.png\",sampling = True)"
      ],
      "metadata": {
        "colab": {
          "base_uri": "https://localhost:8080/",
          "height": 829
        },
        "id": "vWWx0FR0oePr",
        "outputId": "933fa4c8-1be1-44d5-fbc3-56d83d8d908a"
      },
      "execution_count": null,
      "outputs": [
        {
          "output_type": "display_data",
          "data": {
            "text/plain": [
              "<Figure size 2000x1000 with 2 Axes>"
            ],
            "image/png": "[encoded data removed]"
          },
          "metadata": {}
        }
      ]
    },
    {
      "cell_type": "code",
      "source": [
        "print(\"F1 score: %.3f \\nPrecision: %.3f \\nRecall: %.3f \\nAccuracy: %.3f \\n\" %(f1,precision,recall,accuracy))\n",
        "cm_display = ConfusionMatrixDisplay(cm).plot()\n",
        "# 0 is unburnt, 1 is burnt"
      ],
      "metadata": {
        "colab": {
          "base_uri": "https://localhost:8080/",
          "height": 536
        },
        "id": "Rp5OYrnspaEm",
        "outputId": "6a6d46ee-13f7-4367-d152-097b8a334c8f"
      },
      "execution_count": null,
      "outputs": [
        {
          "output_type": "stream",
          "name": "stdout",
          "text": [
            "F1 score: 0.726 \n",
            "Precision: 0.930 \n",
            "Recall: 0.595 \n",
            "Accuracy: 0.775 \n",
            "\n"
          ]
        },
        {
          "output_type": "display_data",
          "data": {
            "text/plain": [
              "<Figure size 640x480 with 2 Axes>"
            ],
            "image/png": "[encoded data removed]"
          },
          "metadata": {}
        }
      ]
    },
    {
      "cell_type": "markdown",
      "source": [
        "### SAM"
      ],
      "metadata": {
        "id": "JHYVhOUlvqw8"
      }
    },
    {
      "cell_type": "code",
      "source": [
        "df_label,df_pred,cm,f1,precision,recall,accuracy = simple_burnt_validation(\"/content/samraster.tif\", \"/content/EMSR672_AOI01_DEL_PRODUCT_observedEventA_v1.shp\", out_dir = \"/content/sam_cluster.png\",sampling = True)"
      ],
      "metadata": {
        "colab": {
          "base_uri": "https://localhost:8080/",
          "height": 711
        },
        "id": "l6Oq46nivgHH",
        "outputId": "c73f9209-f9f1-46f2-8f53-68e75c5faad3"
      },
      "execution_count": null,
      "outputs": [
        {
          "output_type": "display_data",
          "data": {
            "text/plain": [
              "<Figure size 2000x1000 with 2 Axes>"
            ],
            "image/png": "[encoded data removed]"
          },
          "metadata": {}
        }
      ]
    },
    {
      "cell_type": "code",
      "source": [
        "print(\"F1 score: %.3f \\nPrecision: %.3f \\nRecall: %.3f \\nAccuracy: %.3f \\n\" %(f1,precision,recall,accuracy))\n",
        "cm_display = ConfusionMatrixDisplay(cm).plot()\n",
        "# 0 is unburnt, 1 is burnt"
      ],
      "metadata": {
        "colab": {
          "base_uri": "https://localhost:8080/",
          "height": 536
        },
        "id": "L5A8SP13wBXf",
        "outputId": "3c6082f8-e179-4f74-a129-6fdced0eedf1"
      },
      "execution_count": null,
      "outputs": [
        {
          "output_type": "stream",
          "name": "stdout",
          "text": [
            "F1 score: 0.880 \n",
            "Precision: 0.919 \n",
            "Recall: 0.844 \n",
            "Accuracy: 0.885 \n",
            "\n"
          ]
        },
        {
          "output_type": "display_data",
          "data": {
            "text/plain": [
              "<Figure size 640x480 with 2 Axes>"
            ],
            "image/png": "[encoded data removed]"
          },
          "metadata": {}
        }
      ]
    }
  ]
}